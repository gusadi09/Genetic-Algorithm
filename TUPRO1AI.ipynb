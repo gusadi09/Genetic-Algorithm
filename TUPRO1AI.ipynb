{
  "nbformat": 4,
  "nbformat_minor": 0,
  "metadata": {
    "colab": {
      "name": "TUPRO1AI.ipynb",
      "provenance": [],
      "collapsed_sections": [],
      "authorship_tag": "ABX9TyOHKOJ1DAwtpmNtV1zxK35x",
      "include_colab_link": true
    },
    "kernelspec": {
      "name": "python3",
      "display_name": "Python 3"
    }
  },
  "cells": [
    {
      "cell_type": "markdown",
      "metadata": {
        "id": "view-in-github",
        "colab_type": "text"
      },
      "source": [
        "<a href=\"https://colab.research.google.com/github/gusadi09/Genetic-Algorithm/blob/main/TUPRO1AI.ipynb\" target=\"_parent\"><img src=\"https://colab.research.google.com/assets/colab-badge.svg\" alt=\"Open In Colab\"/></a>"
      ]
    },
    {
      "cell_type": "markdown",
      "metadata": {
        "id": "QohKM72H6LXA"
      },
      "source": [
        "Library"
      ]
    },
    {
      "cell_type": "code",
      "metadata": {
        "id": "M5csplzwgqHU"
      },
      "source": [
        "import random\n",
        "import math"
      ],
      "execution_count": null,
      "outputs": []
    },
    {
      "cell_type": "markdown",
      "metadata": {
        "id": "_Mls39wV6N3U"
      },
      "source": [
        "Variabel Global"
      ]
    },
    {
      "cell_type": "code",
      "metadata": {
        "id": "5DSB4O4syAV8"
      },
      "source": [
        "batas_x1 = [-1, 2]\n",
        "batas_x2 = [-1, 1]"
      ],
      "execution_count": null,
      "outputs": []
    },
    {
      "cell_type": "markdown",
      "metadata": {
        "id": "DEEU2A_u6RHU"
      },
      "source": [
        "Fungsi Mencari Kromosom"
      ]
    },
    {
      "cell_type": "code",
      "metadata": {
        "id": "eP_g68NMgwtj"
      },
      "source": [
        "def kromosom() :\n",
        "  kromArr = []\n",
        "\n",
        "  for i in range(6) :\n",
        "    kromArr.append(random.randint(0,9))\n",
        "\n",
        "  return kromArr"
      ],
      "execution_count": null,
      "outputs": []
    },
    {
      "cell_type": "markdown",
      "metadata": {
        "id": "7cMYaysf6UqZ"
      },
      "source": [
        "Fungsi Membentuk Populasi"
      ]
    },
    {
      "cell_type": "code",
      "metadata": {
        "id": "GTAz-TX-huF9"
      },
      "source": [
        "def populasi() :\n",
        "  pop = []\n",
        "\n",
        "  for i in range(6) :\n",
        "    krom = kromosom()\n",
        "    pop.append(krom)\n",
        "\n",
        "  return pop"
      ],
      "execution_count": null,
      "outputs": []
    },
    {
      "cell_type": "markdown",
      "metadata": {
        "id": "tB-eUt6a6YKB"
      },
      "source": [
        "Fungsi Split Membagi 2 Array"
      ]
    },
    {
      "cell_type": "code",
      "metadata": {
        "id": "Dpp1R14HiueF"
      },
      "source": [
        "def seplit(krom) :\n",
        "  bagi = len(krom)//2\n",
        "\n",
        "  return krom[:bagi], krom[bagi:]"
      ],
      "execution_count": null,
      "outputs": []
    },
    {
      "cell_type": "markdown",
      "metadata": {
        "id": "Ea9QpLJw6yIj"
      },
      "source": [
        "Fungsi Dekode Kromosom"
      ]
    },
    {
      "cell_type": "code",
      "metadata": {
        "id": "qEF4ly17lQ8G"
      },
      "source": [
        "def dekode(spl, batas) :\n",
        "  pembagi = 0\n",
        "  kali = 0\n",
        "\n",
        "  for i in range(len(spl)) :\n",
        "    num = spl[i]\n",
        "    kali += (num * (10**-(i+1)))\n",
        "    pembagi += (9 * (10**-(i+1)))\n",
        "\n",
        "  de = batas[0] + (((batas[1]-batas[0]) / pembagi) * kali) \n",
        "\n",
        "  return de"
      ],
      "execution_count": null,
      "outputs": []
    },
    {
      "cell_type": "markdown",
      "metadata": {
        "id": "u6exc9xV60Tm"
      },
      "source": [
        "Nilai Fungsi Pada Soal"
      ]
    },
    {
      "cell_type": "code",
      "metadata": {
        "id": "JIZoBj4cFnvp"
      },
      "source": [
        "def nilaiFungsi(x1,x2) :\n",
        "  f = (math.cos(x1) * math.sin(x2)) - (x1 / (x2**2 +1))\n",
        "  return f"
      ],
      "execution_count": null,
      "outputs": []
    },
    {
      "cell_type": "markdown",
      "metadata": {
        "id": "UDfnk1yU65kA"
      },
      "source": [
        "Nilai Fitness"
      ]
    },
    {
      "cell_type": "code",
      "metadata": {
        "id": "6WKQXWTjIyhd"
      },
      "source": [
        "def Fitness(f) :\n",
        "  fit = 1 / (f + 0.1)\n",
        "  return fit"
      ],
      "execution_count": null,
      "outputs": []
    },
    {
      "cell_type": "markdown",
      "metadata": {
        "id": "KMxxPJrb67Xy"
      },
      "source": [
        "Roullete Wheel Selection Orang Tua"
      ]
    },
    {
      "cell_type": "code",
      "metadata": {
        "id": "aHFrcnHFO_qc"
      },
      "source": [
        "def rws(pop, fit, total) :\n",
        "  r = random.random()\n",
        "  i = 0\n",
        "  while(r > 0) :\n",
        "    r -= fit[i]/total\n",
        "    i += 1\n",
        "    if (i == (len(pop) - 1)) :\n",
        "      break\n",
        "  parent = pop[i]\n",
        "  return parent"
      ],
      "execution_count": null,
      "outputs": []
    },
    {
      "cell_type": "markdown",
      "metadata": {
        "id": "kwg5Tf1P7Gd3"
      },
      "source": [
        "Fungsi Crossover"
      ]
    },
    {
      "cell_type": "code",
      "metadata": {
        "id": "cBpTFmdXQxnr"
      },
      "source": [
        "def xover(p1, p2) :\n",
        "  cs1, cs2 = [], []\n",
        "  cs = []\n",
        "  pb = random.random()\n",
        "  if (pb < 0.9) :\n",
        "    pts = random.randint(0,5)\n",
        "    cs1[:pts], cs1[pts:] = p1[:pts], p2[pts:]\n",
        "    cs2[:pts], cs2[pts:] = p2[:pts], p1[pts:]\n",
        "    cs.append(cs1)\n",
        "    cs.append(cs2)\n",
        "  else :\n",
        "    cs.append(p1)\n",
        "    cs.append(p2)\n",
        "  return cs"
      ],
      "execution_count": null,
      "outputs": []
    },
    {
      "cell_type": "markdown",
      "metadata": {
        "id": "wEKsrT-M7JDm"
      },
      "source": [
        "Fungsi Mutasi"
      ]
    },
    {
      "cell_type": "code",
      "metadata": {
        "id": "YyAF2MJuRxU1"
      },
      "source": [
        "def mutation(cross1, cross2) :\n",
        "  pb = random.random()\n",
        "  if (pb < 0.5) :\n",
        "    for i in range(len(cross1)) :\n",
        "      p = random.random()\n",
        "      if (p < 0.1) :\n",
        "        cross1[i] = random.randint(0,9)\n",
        "    for i in range(len(cross2)) :\n",
        "      p = random.random()\n",
        "      if (p < 0.1) :\n",
        "        cross2[i] = random.randint(0,9)\n",
        "  mutasi = []\n",
        "  mutasi.append(cross1)\n",
        "  mutasi.append(cross2)\n",
        "  return mutasi"
      ],
      "execution_count": null,
      "outputs": []
    },
    {
      "cell_type": "markdown",
      "metadata": {
        "id": "Y2OMeTqo7LPv"
      },
      "source": [
        "Fungsi Mendapatkan Kromosom Terbaik"
      ]
    },
    {
      "cell_type": "code",
      "metadata": {
        "id": "njzz5ElcS6Cr"
      },
      "source": [
        "def popTerbaik(pop) :\n",
        "  maxfit = -999\n",
        "  penampung = []\n",
        "  for i in range(len(pop)) :\n",
        "    penampung = pop[i]\n",
        "    a, b = seplit(penampung)\n",
        "    x1 = dekode(a, batas_x1)\n",
        "    x2 = dekode(b, batas_x2)\n",
        "    f = nilaiFungsi(x1, x2)\n",
        "    fit = Fitness(f)\n",
        "    if (fit > maxfit) :\n",
        "      maxfit = fit\n",
        "      maxTampung = penampung\n",
        "  return maxTampung"
      ],
      "execution_count": null,
      "outputs": []
    },
    {
      "cell_type": "markdown",
      "metadata": {
        "id": "PuIhJOmuwCfs"
      },
      "source": [
        "MAIN PROGRAM"
      ]
    },
    {
      "cell_type": "code",
      "metadata": {
        "id": "dNHmCjQJQFtc"
      },
      "source": [
        "pop = populasi()\n",
        "generasi = 1\n",
        "while (generasi < 4) :\n",
        "  penampung = []\n",
        "  fit = []\n",
        "  ArrFit = []\n",
        "  popBaru = []\n",
        "  child = []\n",
        "  best = popTerbaik(pop)\n",
        "  total = 0\n",
        "  print('population ', generasi,' = ', pop)\n",
        "  for i in range(len(pop)) :\n",
        "    penampung = pop[i]\n",
        "    print('Kromosom ', i + 1, ' = ', penampung)\n",
        "    a, b = seplit(penampung)\n",
        "    x1 = dekode(a, batas_x1)\n",
        "    x2 = dekode(b, batas_x2)\n",
        "    print('Nilai x1 ', i + 1,' = ', x1)\n",
        "    print('Nilai x2 ', i + 1,' = ', x2)\n",
        "    f = nilaiFungsi(x1,x2)\n",
        "    print('Nilai Fungsi ', i + 1,' = ', f)\n",
        "    fit = Fitness(f)\n",
        "    ArrFit.append(fit)\n",
        "    total += fit\n",
        "    print('Nilai Fitness ', i + 1,' = ', fit)\n",
        "    print('')\n",
        "  print('------------------------------------------')\n",
        "  print('Total Fitness = ', total)\n",
        "  print('------------------------------------------')\n",
        "  for j in range(len(pop) // 2) :\n",
        "    parent1 = rws(pop, ArrFit, total)\n",
        "    parent2 = rws(pop, ArrFit, total)\n",
        "    print('Parent 1 = ', parent1)\n",
        "    print('Parent 2 = ', parent2)\n",
        "    child = xover(parent1, parent2)\n",
        "    child2 = mutation(child[0], child[1])\n",
        "    print('Child = ', child2)\n",
        "    popBaru.append(child2[0])\n",
        "    popBaru.append(child2[1])\n",
        "  print('------------------------------------------')\n",
        "  print('New Population ', generasi, ' = ', popBaru)\n",
        "  print('------------------------------------------')\n",
        "  print('')\n",
        "  best = popTerbaik(popBaru)\n",
        "  pop = popBaru\n",
        "  generasi += 1\n",
        "  print('')\n",
        "\n",
        "print('Kromosom Terbaik')\n",
        "print('------------------------------------------')\n",
        "print('')\n",
        "print('Kromosom = ', best)\n",
        "print(seplit(best))\n",
        "a, b = seplit(best)\n",
        "x1 = dekode(a, batas_x1)\n",
        "x2 = dekode(b, batas_x2)\n",
        "print('x1 = ', x1)\n",
        "print('x2 = ', x2)\n",
        "print('Fitness = ', Fitness(nilaiFungsi(x1,x2)))\n",
        "print('Nilai Fungsi = ', nilaiFungsi(x1, x2))\n",
        "print('-------------------------------------------')"
      ],
      "execution_count": null,
      "outputs": []
    }
  ]
}